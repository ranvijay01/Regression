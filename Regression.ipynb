{
  "nbformat": 4,
  "nbformat_minor": 0,
  "metadata": {
    "colab": {
      "provenance": []
    },
    "kernelspec": {
      "name": "python3",
      "display_name": "Python 3"
    },
    "language_info": {
      "name": "python"
    }
  },
  "cells": [
    {
      "cell_type": "markdown",
      "source": [
        "1. What is Simple Linear Regression?\n",
        "- Ans:-\n",
        "Simple Linear Regression is a statistical method used to model the relationship between two variables - one independent variable (predictor) and one dependent variable (response) - by fitting a linear equation to the observed data. The goal is to predict the value of the dependent variable based on the value of the independent variable.\n"
      ],
      "metadata": {
        "id": "YKA33IEuM4LJ"
      }
    },
    {
      "cell_type": "markdown",
      "source": [
        "2. What are the key assumptions of Simple Linear Regression?\n",
        "- Ans:-\n",
        "The key assumptions are:\n",
        " * Linearity: The relationship between the independent and dependent variables is linear.\n",
        " * Independence: The errors are independent of each other.\n",
        " * Homoscedasticity: The variance of the errors is constant across all levels of the independent variable.\n",
        " * Normality: The errors are normally distributed.\n"
      ],
      "metadata": {
        "id": "8vCvoTKTNrlW"
      }
    },
    {
      "cell_type": "markdown",
      "source": [
        "3. What does the coefficient 'm' represent in the equation Y=mX+c?\n",
        "- Ans:-\n",
        "The coefficient 'm' represents the slope of the regression line. It indicates the change in the dependent variable (Y) for a one-unit change in the independent variable (X).\n"
      ],
      "metadata": {
        "id": "KsTjk_KkOBN0"
      }
    },
    {
      "cell_type": "markdown",
      "source": [
        "4. What does the intercept 'c' represent in the equation Y=mX+c?\n",
        "- Ans:-\n",
        "The intercept 'c' represents the y-intercept of the regression line. It is the value of the dependent variable (Y) when the independent variable (X) is zero.\n"
      ],
      "metadata": {
        "id": "XOjM9tbjON-T"
      }
    },
    {
      "cell_type": "markdown",
      "source": [
        "5. How do we calculate the slope 'm' in Simple Linear Regression?\n",
        "Ans:-\n",
        "The slope 'm' is calculated using the formula:\n",
        "         m = [ ∑(Xi - X_bar)(Yi- Y_bar)] / [∑(Xi - X_bar)^2]\n",
        "        - Xi and Yi are individual data points.​\n",
        "        - x_bar and y_bar are the means of the x and y values, respectively.\n"
      ],
      "metadata": {
        "id": "WlV-Fb50OX_g"
      }
    },
    {
      "cell_type": "markdown",
      "source": [
        "6. What is the purpose of the least squares method in Simple Linear Regression?\n",
        "- Ans:-\n",
        "The least squares method is used to find the best-fitting line by minimizing the sum of the squared differences between the observed values and the predicted values. It aims to minimize the errors (residuals) of the model.\n"
      ],
      "metadata": {
        "id": "Hm-GO_wtSHPA"
      }
    },
    {
      "cell_type": "markdown",
      "source": [
        "7. How is the coefficient of determination (R²) interpreted in Simple Linear Regression?\n",
        "- Ans:-\n",
        "R² represents the proportion of the variance in the dependent variable that is predictable from the independent variable. It ranges from 0 to 1. An R² of 1 indicates a perfect fit, while an R² of 0 indicates no linear relationship.\n"
      ],
      "metadata": {
        "id": "-FHg_PR4SOqw"
      }
    },
    {
      "cell_type": "markdown",
      "source": [
        "8. What is Multiple Linear Regression?\n",
        "- Ans:-\n",
        "Multiple Linear Regression is a statistical method used to model the relationship between a dependent variable and two or more independent variables by fitting a linear equation to the observed data.\n"
      ],
      "metadata": {
        "id": "HzZTt8RaSb0s"
      }
    },
    {
      "cell_type": "markdown",
      "source": [
        "9. What is the main difference between Simple and Multiple Linear Regression?\n",
        "- Ans:-\n",
        "Simple Linear Regression has only one independent variable, while Multiple Linear Regression has two or more independent variables.\n"
      ],
      "metadata": {
        "id": "TrXXDEILSgcb"
      }
    },
    {
      "cell_type": "markdown",
      "source": [
        "10. What are the key assumptions of Multiple Linear Regression?\n",
        "- Ans:-\n",
        "The assumptions are similar to Simple Linear Regression:\n",
        " * Linearity: The relationship between the dependent and independent variables is linear.\n",
        " * Independence: The errors (residuals) are independent of each other.\n",
        " * Homoscedasticity: The variance of the errors is constant across all levels of the independent variables.\n",
        " * Normality: The errors are normally distributed.\n",
        " * No Multicollinearity: The independent variables are not highly correlated with each other.\n"
      ],
      "metadata": {
        "id": "HfomyzUDSmwk"
      }
    },
    {
      "cell_type": "markdown",
      "source": [
        "11. What is heteroscedasticity, and how does it affect the results of a Multiple Linear Regression model?\n",
        "- Ans:-\n",
        "Heteroscedasticity is a condition where the variance of the errors is not constant across all levels of the independent variables. It violates the assumption of homoscedasticity.\n",
        "It affects the results by:\n",
        " * Making the estimates of the regression coefficients inefficient: The standard errors are underestimated, leading to unreliable hypothesis testing.\n",
        " * Affecting the reliability of confidence intervals and p-values: The confidence intervals become narrower, and the p-values become smaller, leading to incorrect conclusions about the significance of the coefficients.\n"
      ],
      "metadata": {
        "id": "HmpukESJSxKI"
      }
    },
    {
      "cell_type": "markdown",
      "source": [
        "12. How can you improve a Multiple Linear Regression model with high multicollinearity?\n",
        "- Ans:-\n",
        "You can improve a model with high multicollinearity by:\n",
        " * Removing highly correlated independent variables: Identify and remove variables that are highly correlated with each other.\n",
        " * Using dimensionality reduction techniques: Techniques like Principal Component Analysis (PCA) can create new uncorrelated variables.\n",
        " * Increasing the sample size: A larger sample size can reduce the impact of multicollinearity.\n",
        " * Using regularization techniques: Techniques like Ridge regression or Lasso regression can help to shrink the coefficients and reduce the impact of multicollinearity.\n"
      ],
      "metadata": {
        "id": "UX9VpNrDS3X9"
      }
    },
    {
      "cell_type": "markdown",
      "source": [
        "13. What are some common techniques for transforming categorical variables for use in regression models?\n",
        "- Ans:-\n",
        "Common techniques include:\n",
        " * One-Hot Encoding: Creating binary variables for each category.\n",
        " * Dummy Coding: Similar to one-hot encoding but uses one less variable than the number of categories.\n",
        " * Effect Coding: Compares the mean of each category to the overall mean.\n",
        " * Target Encoding: Replaces categories with the mean of the target variable.\n"
      ],
      "metadata": {
        "id": "JXpZ96X4S9Nj"
      }
    },
    {
      "cell_type": "markdown",
      "source": [
        "14. What is the role of interaction terms in Multiple Linear Regression?\n",
        "- Ans:-\n",
        "Interaction terms are used to model the combined effect of two or more independent variables on the dependent variable. They allow for the relationship between one independent variable and the dependent variable to vary depending on the value of another independent variable.\n",
        "\n",
        "\n"
      ],
      "metadata": {
        "id": "ndLPPvFfTEP1"
      }
    },
    {
      "cell_type": "markdown",
      "source": [
        "15. How can the interpretation of intercept differ between Simple and Multiple Linear Regression?\n",
        "- Ans:-\n",
        "In Simple Linear Regression, the intercept is the value of Y when X is zero. In Multiple Linear Regression, the intercept is the value of Y when all independent variables are zero.\n"
      ],
      "metadata": {
        "id": "uZFBLRwZTK3j"
      }
    },
    {
      "cell_type": "markdown",
      "source": [
        "16. What is the significance of the slope in regression analysis, and how does it affect predictions?\n",
        "- Ans:-\n",
        "The slope indicates the change in the dependent variable for a one-unit change in the independent variable. It is crucial for predictions as it determines the magnitude and direction of the effect of the independent variable on the dependent variable.\n"
      ],
      "metadata": {
        "id": "77bMZ2h9TQ3d"
      }
    },
    {
      "cell_type": "markdown",
      "source": [
        "17. How does the intercept in a regression model provide context for the relationship between variables?\n",
        "- Ans:-\n",
        "The intercept provides a baseline value for the dependent variable when all independent variables are zero. It helps to understand the starting point or initial value of the dependent variable.\n"
      ],
      "metadata": {
        "id": "UFKU6JEoTY5T"
      }
    },
    {
      "cell_type": "markdown",
      "source": [
        "18. What are the limitations of using R² as a sole measure of model performance?\n",
        "- Ans:-\n",
        "Limitations of R²:\n",
        " * It does not indicate if the model is adequate: A high R² doesn't guarantee a good model.\n",
        " * It can be misleading in multiple regression: Adding more variables always increases R², even if they are not significant.\n",
        " * It doesn't indicate the direction of the relationship: It only measures the strength of the relationship.\n",
        " * It is sensitive to outliers: Outliers can inflate or deflate R².\n"
      ],
      "metadata": {
        "id": "6E2PZSbRTgQe"
      }
    },
    {
      "cell_type": "markdown",
      "source": [
        "19. How would you interpret a large standard error for a regression coefficient?\n",
        "- Ans:-\n",
        "A large standard error indicates that the estimate of the coefficient is imprecise and unreliable. It suggests that the coefficient may not be statistically significant and that the independent variable may not have a strong effect on the dependent variable.\n"
      ],
      "metadata": {
        "id": "tNjCCg9TTnlh"
      }
    },
    {
      "cell_type": "markdown",
      "source": [
        "20. How can heteroscedasticity be identified in residual plots, and why is it important to address it?\n",
        "- Ans:-\n",
        "Heteroscedasticity can be identified in residual plots by observing a non-constant variance of the residuals. For example, a funnel shape or a cone shape indicates heteroscedasticity.\n",
        "It's important to address it because it violates the assumption of homoscedasticity, leading to unreliable estimates, confidence intervals, and p-values.\n"
      ],
      "metadata": {
        "id": "9uxFEvmhT2Ru"
      }
    },
    {
      "cell_type": "markdown",
      "source": [
        "21. What does it mean if a Multiple Linear Regression model has a high R² but low adjusted R²?\n",
        "- Ans:-\n",
        "A high R² but low adjusted R² suggests that the model may be overfitting the data. The additional independent variables may not be adding significant explanatory power, and the model may not generalize well to new data.\n"
      ],
      "metadata": {
        "id": "MHvq977OT4md"
      }
    },
    {
      "cell_type": "markdown",
      "source": [
        "22. Why is it important to scale variables in Multiple Linear Regression?\n",
        "- Ans:-\n",
        "Scaling variables is important to:\n",
        " * Improve the convergence of optimization algorithms: When variables have different scales, it can slow down the convergence of algorithms like gradient descent.\n",
        " * Prevent variables with larger scales from dominating the model: Variables with larger scales can have a disproportionate impact on the model.\n",
        " * Make the coefficients more interpretable: Scaling variables can make the coefficients more comparable and easier to interpret."
      ],
      "metadata": {
        "id": "Yfe502HjT-Lx"
      }
    },
    {
      "cell_type": "markdown",
      "source": [
        "23. What is polynomial regression?\n",
        "- Ans:-\n",
        "Polynomial regression is a form of regression analysis in which the relationship between the independent variable (X) and the dependent variable (Y) is modeled as an nth degree polynomial. It is used to model non-linear relationships.\n"
      ],
      "metadata": {
        "id": "SQ8J7-wsUFZe"
      }
    },
    {
      "cell_type": "markdown",
      "source": [
        "24. How does polynomial regression differ from linear regression?\n",
        "- Ans:-\n",
        "Linear regression models a linear relationship, while polynomial regression models a non-linear relationship using polynomial terms.\n"
      ],
      "metadata": {
        "id": "oANYIwMXULCY"
      }
    },
    {
      "cell_type": "markdown",
      "source": [
        "25. When is polynomial regression used?\n",
        "- Ans:-\n",
        "Polynomial regression is used when the relationship between the variables is non-linear and can be better modeled by a polynomial function.\n"
      ],
      "metadata": {
        "id": "_skyjPNrUQGB"
      }
    },
    {
      "cell_type": "markdown",
      "source": [
        "26. What is the general equation for polynomial regression?\n",
        "- Ans:-\n",
        "The general equation for polynomial regression is:\n",
        "- Y = beta_0 + beta_1 X + beta_2 X^2 + ... + beta_n X^n + ϵ\n",
        "-\n",
        "where:\n",
        " * Y is the dependent variable\n",
        " * X is the independent variable\n",
        " * beta_0, beta_1, ..., beta_n are the coefficients\n",
        " * n is the degree of the polynomial\n",
        " * ϵ (epsilon) is the error term\n"
      ],
      "metadata": {
        "id": "e3ucFqVgUXCZ"
      }
    },
    {
      "cell_type": "markdown",
      "source": [
        "27. Can polynomial regression be applied to multiple variables?\n",
        "- Ans:-\n",
        "Yes, polynomial regression can be applied to multiple variables. It becomes a multivariate polynomial regression.\n"
      ],
      "metadata": {
        "id": "Y0b8zBCnUipH"
      }
    },
    {
      "cell_type": "markdown",
      "source": [
        "28. What are the limitations of polynomial regression?\n",
        "- Ans:-\n",
        "Limitations of polynomial regression:\n",
        " * Overfitting: High-degree polynomials can overfit the data, leading to poor generalization.\n",
        " * Extrapolation: Extrapolating beyond the range of the data can lead to unreliable predictions.\n",
        " * Computational complexity: High-degree polynomials can be computationally expensive.\n"
      ],
      "metadata": {
        "id": "XtWEKobYUqta"
      }
    },
    {
      "cell_type": "markdown",
      "source": [
        "29. What methods can be used to evaluate model fit when selecting the degree of a polynomial?\n",
        "- Ans:-\n",
        "Methods for evaluating model fit:\n",
        " * R² and Adjusted R²: To assess the goodness of fit.\n",
        " * Residual plots: To check for patterns in the residuals.\n",
        " * Cross-validation: To estimate the model's performance on unseen data.\n",
        " * Information criteria (AIC, BIC): To balance model fit and complexity.\n"
      ],
      "metadata": {
        "id": "kvpxA85DUtis"
      }
    },
    {
      "cell_type": "markdown",
      "source": [
        "30. Why is visualization important in polynomial regression?\n",
        "- Ans:-\n",
        "Visualization is important to:\n",
        " * Understand the shape of the relationship: Polynomial relationships can be complex, and visualization helps to understand their shape.\n",
        " * Identify potential overfitting: Visualizing the fitted curve against the data can help to identify overfitting.\n",
        " * Compare different polynomial degrees: Visualizing the fitted curves for different degrees can help to choose the best degree.\n"
      ],
      "metadata": {
        "id": "DLQd0dK9U0cm"
      }
    },
    {
      "cell_type": "markdown",
      "source": [
        "31. How is polynomial regression implemented in Python?\n",
        "- Ans:-\n",
        "Polynomial regression can be implemented in Python using the scikit-learn library. Here's a basic example:\n"
      ],
      "metadata": {
        "id": "FGFfCNfEVC8Z"
      }
    },
    {
      "cell_type": "code",
      "source": [
        "import numpy as np\n",
        "import matplotlib.pyplot as plt\n",
        "from sklearn.linear_model import LinearRegression\n",
        "from sklearn.preprocessing import PolynomialFeatures\n",
        "\n",
        "# Sample data\n",
        "X = np.array([1, 2, 3, 4, 5]).reshape(-1, 1)\n",
        "y = np.array([2, 5, 10, 17, 26])\n",
        "\n",
        "# Create polynomial features\n",
        "poly = PolynomialFeatures(degree=2)\n",
        "X_poly = poly.fit_transform(X)\n",
        "\n",
        "# Train the model\n",
        "model = LinearRegression()\n",
        "model.fit(X_poly, y)\n",
        "\n",
        "# Predict\n",
        "y_pred = model.predict(X_poly)\n",
        "\n",
        "# Ploting the results\n",
        "plt.scatter(X, y)\n",
        "plt.plot(X, y_pred, color='red')\n",
        "plt.show()"
      ],
      "metadata": {
        "colab": {
          "base_uri": "https://localhost:8080/",
          "height": 430
        },
        "id": "6ZK4_uSaVLEL",
        "outputId": "9bec4ffc-5282-40da-f535-17628c499bcf"
      },
      "execution_count": 2,
      "outputs": [
        {
          "output_type": "display_data",
          "data": {
            "text/plain": [
              "<Figure size 640x480 with 1 Axes>"
            ],
            "image/png": "[encoded data removed]"
          },
          "metadata": {}
        }
      ]
    }
  ]
}